{
 "cells": [
  {
   "cell_type": "markdown",
   "metadata": {
    "id": "B8rCKYLmMh81"
   },
   "source": [
    "**Aplikacja Flask**"
   ]
  },
  {
   "cell_type": "markdown",
   "metadata": {
    "id": "KomrC6WSMVGO"
   },
   "source": [
    "Import bibliotek"
   ]
  },
  {
   "cell_type": "code",
   "execution_count": 3,
   "metadata": {
    "id": "BWxvwDMpagP7"
   },
   "outputs": [],
   "source": [
    "import numpy as np\n",
    "import pandas as pd\n",
    "import pickle\n",
    "from flask import Flask, request, jsonify, render_template\n",
    "from flask_ngrok import run_with_ngrok\n",
    "from pyngrok import ngrok\n",
    "import requests\n",
    "from tensorflow import keras\n",
    "from collections import Counter\n",
    "import tensorflow as tf\n",
    "from keras.layers import LSTM, Bidirectional, Dense, Dropout, Activation, Embedding\n",
    "from keras.utils import np_utils\n",
    "from tensorflow.keras.models import Sequential, load_model\n",
    "from keras.optimizers import Adamax\n",
    "from keras.callbacks import LambdaCallback, ModelCheckpoint, EarlyStopping\n",
    "import random\n",
    "import re\n",
    "from nltk import flatten\n"
   ]
  },
  {
   "cell_type": "markdown",
   "metadata": {
    "id": "NEom7N1cq9ox"
   },
   "source": [
    "Stworzenie funkcji do generowania tekstu"
   ]
  },
  {
   "cell_type": "code",
   "execution_count": 4,
   "metadata": {
    "id": "T8beoyNpq6hY"
   },
   "outputs": [],
   "source": [
    "def get_lyrics(model, start, no_words, temp):\n",
    "\n",
    "  start_string_list =  [start]\n",
    "\n",
    "  input = tf.expand_dims([dictionary_enumerated[s] for s in start_string_list], 0)\n",
    "\n",
    "  song=start\n",
    "\n",
    "  model.reset_states()\n",
    "  for i in range(no_words):\n",
    "      predicted = (tf.squeeze(model(input), 0))/ temp\n",
    "      predicted_id = tf.random.categorical(predicted, num_samples=1)[-1,0].numpy()\n",
    "      input = tf.expand_dims([predicted_id], 0)\n",
    "      song=song+' ' + enumerated_dictionary[predicted_id]\n",
    "\n",
    "  return song"
   ]
  },
  {
   "cell_type": "markdown",
   "metadata": {
    "id": "f9-Je8hqhoGP"
   },
   "source": [
    "Funkcja do pobrania danych"
   ]
  },
  {
   "cell_type": "code",
   "execution_count": 5,
   "metadata": {
    "id": "qSUc7HSLdgEv"
   },
   "outputs": [],
   "source": [
    "def get_data(genre):\n",
    "  Words=[]\n",
    "  df=pd.read_excel(f'dataset/df_{genre}.xlsx')\n",
    "  for l in df['lyrics']:\n",
    "    Words.append(re.split(r' ', l))\n",
    "  Words=flatten(Words)\n",
    "  Words=[x for x in Words if x]\n",
    "\n",
    "  dictionary = sorted(set(Words))\n",
    "\n",
    "  return dictionary"
   ]
  },
  {
   "cell_type": "markdown",
   "metadata": {
    "id": "twUwsgr4agQC"
   },
   "source": [
    "Budowa aplikacji"
   ]
  },
  {
   "cell_type": "code",
   "execution_count": 14,
   "metadata": {
    "colab": {
     "base_uri": "https://localhost:8080/"
    },
    "id": "W5RUm0AALwti",
    "outputId": "21f921c1-8d12-46c7-9752-39123904b674"
   },
   "outputs": [
    {
     "name": "stdout",
     "output_type": "stream",
     "text": [
      "Authtoken saved to configuration file: /root/.ngrok2/ngrok.yml\n"
     ]
    },
    {
     "name": "stderr",
     "output_type": "stream",
     "text": [
      "WARNING:pyngrok.process.ngrok:t=2023-06-18T15:09:06+0000 lvl=warn msg=\"ngrok config file found at legacy location, move to XDG location\" xdg_path=/root/.config/ngrok/ngrok.yml legacy_path=/root/.ngrok2/ngrok.yml\n"
     ]
    },
    {
     "name": "stdout",
     "output_type": "stream",
     "text": [
      " * Serving Flask app '__main__'\n",
      " * Debug mode: off\n"
     ]
    },
    {
     "name": "stderr",
     "output_type": "stream",
     "text": [
      "INFO:werkzeug:\u001b[31m\u001b[1mWARNING: This is a development server. Do not use it in a production deployment. Use a production WSGI server instead.\u001b[0m\n",
      " * Running on http://127.0.0.1:5000\n",
      "INFO:werkzeug:\u001b[33mPress CTRL+C to quit\u001b[0m\n"
     ]
    },
    {
     "name": "stdout",
     "output_type": "stream",
     "text": [
      " * Running on http://c866-35-185-255-207.ngrok-free.app\n",
      " * Traffic stats available on http://127.0.0.1:4040\n"
     ]
    },
    {
     "name": "stderr",
     "output_type": "stream",
     "text": [
      "INFO:werkzeug:127.0.0.1 - - [18/Jun/2023 15:09:12] \"GET / HTTP/1.1\" 200 -\n",
      "INFO:werkzeug:127.0.0.1 - - [18/Jun/2023 15:09:12] \"GET /static/main.css HTTP/1.1\" 200 -\n",
      "INFO:werkzeug:127.0.0.1 - - [18/Jun/2023 15:09:13] \"\u001b[33mGET /favicon.ico HTTP/1.1\u001b[0m\" 404 -\n",
      "INFO:werkzeug:127.0.0.1 - - [18/Jun/2023 15:09:16] \"POST /predict HTTP/1.1\" 200 -\n",
      "INFO:werkzeug:127.0.0.1 - - [18/Jun/2023 15:09:16] \"\u001b[36mGET /static/main.css HTTP/1.1\u001b[0m\" 304 -\n"
     ]
    }
   ],
   "source": [
    "\n",
    "#!ngrok authtoken \n",
    "\n",
    "app = Flask(__name__, template_folder='template', static_folder='static')\n",
    "run_with_ngrok(app)\n",
    "genres=['pop', 'rock', 'jazz', 'rap', 'country', 'blues']\n",
    "\n",
    "@app.route('/')\n",
    "def home():\n",
    "  return render_template('index.html', genres=genres)\n",
    "\n",
    "@app.route('/predict',methods=['POST'])\n",
    "def predict():\n",
    "  genre = request.form.get('genres')\n",
    "\n",
    "  #zebranie danych\n",
    "  dictionary=get_data(genre)\n",
    "  dictionary_enumerated = {u: i for i, u in enumerate(dictionary)}\n",
    "  enumerated_dictionary = np.array(dictionary)\n",
    "\n",
    "  model = pickle.load(open(f'models/model_{genre}.pkl', 'rb'))\n",
    "\n",
    "  # #wybranie losowego słowa początkowego z listy\n",
    "  start_words=['i', 'you', 'she', 'he', 'we']\n",
    "  start=random.choice(start_words)\n",
    "\n",
    "  # #wygenerowanie piosenki\n",
    "  generated=get_lyrics(model, start, 10, 0.1)\n",
    "  return render_template('index.html',song=f'Wygenerowana piosenka w stylu {genre}: {generated}', genres=genres)\n",
    "\n",
    "ngrok_tunnel = ngrok.connect(5000)\n",
    "if __name__ == '__main__':\n",
    "    app.run()"
   ]
  }
 ],
 "metadata": {
  "accelerator": "GPU",
  "colab": {
   "gpuType": "T4",
   "provenance": []
  },
  "gpuClass": "standard",
  "kernelspec": {
   "display_name": "Python 3 (ipykernel)",
   "language": "python",
   "name": "python3"
  },
  "language_info": {
   "codemirror_mode": {
    "name": "ipython",
    "version": 3
   },
   "file_extension": ".py",
   "mimetype": "text/x-python",
   "name": "python",
   "nbconvert_exporter": "python",
   "pygments_lexer": "ipython3",
   "version": "3.9.13"
  }
 },
 "nbformat": 4,
 "nbformat_minor": 1
}
